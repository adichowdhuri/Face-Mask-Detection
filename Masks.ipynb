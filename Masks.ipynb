{
 "cells": [
  {
   "cell_type": "code",
   "execution_count": 1,
   "metadata": {},
   "outputs": [],
   "source": [
    "import os\n",
    "os.environ[\"CUDA_VISIBLE_DEVICES\"] = \"-1\"\n",
    "import tensorflow as tf\n",
    "from keras.layers import Input, Lambda, Dense, Flatten\n",
    "from keras.models import Model\n",
    "from keras.applications.vgg16 import VGG16\n",
    "from keras.applications.vgg16 import preprocess_input\n",
    "from keras.preprocessing import image\n",
    "from keras.preprocessing.image import ImageDataGenerator\n",
    "from keras.models import Sequential\n",
    "from keras.callbacks import EarlyStopping\n",
    "import numpy as np\n",
    "from glob import glob\n",
    "import matplotlib.pyplot as plt"
   ]
  },
  {
   "cell_type": "code",
   "execution_count": 2,
   "metadata": {},
   "outputs": [],
   "source": [
    "INIT_LR = 1e-4\n",
    "BATCH_SIZE = 32\n",
    "IMAGE_SIZE = 224\n",
    "CHANNELS=3\n",
    "EPOCHS=50"
   ]
  },
  {
   "cell_type": "code",
   "execution_count": 3,
   "metadata": {},
   "outputs": [
    {
     "name": "stdout",
     "output_type": "stream",
     "text": [
      "Found 2682 images belonging to 2 classes.\n"
     ]
    }
   ],
   "source": [
    "train_datagen = ImageDataGenerator(\n",
    "        rescale=1./255,\n",
    "        rotation_range=10,\n",
    "        horizontal_flip=True\n",
    ")\n",
    "train_set = train_datagen.flow_from_directory(\n",
    "        'Dataset/train',\n",
    "        target_size=(IMAGE_SIZE,IMAGE_SIZE),\n",
    "        batch_size=32,\n",
    "        class_mode='categorical',\n",
    ")"
   ]
  },
  {
   "cell_type": "code",
   "execution_count": 4,
   "metadata": {},
   "outputs": [
    {
     "name": "stdout",
     "output_type": "stream",
     "text": [
      "Found 382 images belonging to 2 classes.\n"
     ]
    }
   ],
   "source": [
    "validation_datagen = ImageDataGenerator(\n",
    "        rescale=1./255,\n",
    "        rotation_range=10,\n",
    "        horizontal_flip=True)\n",
    "validation_set = validation_datagen.flow_from_directory(\n",
    "        'Dataset/val',\n",
    "        target_size=(IMAGE_SIZE,IMAGE_SIZE),\n",
    "        batch_size=32,\n",
    "        class_mode='categorical'\n",
    ")"
   ]
  },
  {
   "cell_type": "code",
   "execution_count": 5,
   "metadata": {},
   "outputs": [
    {
     "name": "stdout",
     "output_type": "stream",
     "text": [
      "Found 769 images belonging to 2 classes.\n"
     ]
    }
   ],
   "source": [
    "test_datagen = ImageDataGenerator(\n",
    "        rescale=1./255,\n",
    "        rotation_range=10,\n",
    "        horizontal_flip=True)\n",
    "\n",
    "test_set = test_datagen.flow_from_directory(\n",
    "        'Dataset/test',\n",
    "        target_size=(IMAGE_SIZE,IMAGE_SIZE),\n",
    "        batch_size=32,\n",
    "        class_mode='categorical'\n",
    ")"
   ]
  },
  {
   "cell_type": "code",
   "execution_count": 6,
   "metadata": {},
   "outputs": [
    {
     "data": {
      "text/plain": [
       "['with_mask', 'without_mask']"
      ]
     },
     "execution_count": 6,
     "metadata": {},
     "output_type": "execute_result"
    }
   ],
   "source": [
    "class_names = list(train_set.class_indices.keys())\n",
    "class_names"
   ]
  },
  {
   "cell_type": "code",
   "execution_count": 7,
   "metadata": {},
   "outputs": [],
   "source": [
    "vgg = VGG16(input_shape=[IMAGE_SIZE,IMAGE_SIZE] + [3], weights='imagenet', include_top=False)\n",
    "for layer in vgg.layers:\n",
    "    layer.trainable = False"
   ]
  },
  {
   "cell_type": "code",
   "execution_count": 8,
   "metadata": {},
   "outputs": [],
   "source": [
    "x = Flatten()(vgg.output)\n",
    "prediction = Dense(2, activation='softmax')(x)\n",
    "model = Model(inputs=vgg.input, outputs=prediction)"
   ]
  },
  {
   "cell_type": "code",
   "execution_count": 9,
   "metadata": {},
   "outputs": [],
   "source": [
    "model.compile(\n",
    "  loss='categorical_crossentropy',\n",
    "  optimizer='adam',\n",
    "  metrics=['accuracy']\n",
    ")"
   ]
  },
  {
   "cell_type": "code",
   "execution_count": 10,
   "metadata": {},
   "outputs": [],
   "source": [
    "early_stopping = EarlyStopping(\n",
    "    monitor='val_accuracy',\n",
    "    min_delta=0.001, \n",
    "    patience=20,\n",
    "    mode=\"max\",\n",
    "    restore_best_weights=True,\n",
    ")"
   ]
  },
  {
   "cell_type": "code",
   "execution_count": 11,
   "metadata": {},
   "outputs": [
    {
     "name": "stdout",
     "output_type": "stream",
     "text": [
      "Epoch 1/500\n",
      "41/84 [=============>................] - ETA: 1:32 - loss: 0.3260 - accuracy: 0.8704"
     ]
    },
    {
     "name": "stderr",
     "output_type": "stream",
     "text": [
      "c:\\Users\\Biki\\anaconda3\\envs\\venv1\\lib\\site-packages\\PIL\\Image.py:992: UserWarning: Palette images with Transparency expressed in bytes should be converted to RGBA images\n",
      "  warnings.warn(\n"
     ]
    },
    {
     "name": "stdout",
     "output_type": "stream",
     "text": [
      "84/84 [==============================] - 208s 2s/step - loss: 0.2019 - accuracy: 0.9228 - val_loss: 0.0702 - val_accuracy: 0.9791\n",
      "Epoch 2/500\n",
      "84/84 [==============================] - 211s 3s/step - loss: 0.0451 - accuracy: 0.9884 - val_loss: 0.0623 - val_accuracy: 0.9843\n",
      "Epoch 3/500\n",
      "84/84 [==============================] - 220s 3s/step - loss: 0.0328 - accuracy: 0.9896 - val_loss: 0.0668 - val_accuracy: 0.9738\n",
      "Epoch 4/500\n",
      "84/84 [==============================] - 229s 3s/step - loss: 0.0161 - accuracy: 0.9963 - val_loss: 0.0454 - val_accuracy: 0.9869\n",
      "Epoch 5/500\n",
      "84/84 [==============================] - 233s 3s/step - loss: 0.0182 - accuracy: 0.9966 - val_loss: 0.0547 - val_accuracy: 0.9791\n",
      "Epoch 6/500\n",
      "84/84 [==============================] - 222s 3s/step - loss: 0.0161 - accuracy: 0.9970 - val_loss: 0.0600 - val_accuracy: 0.9817\n",
      "Epoch 7/500\n",
      "84/84 [==============================] - 209s 2s/step - loss: 0.0077 - accuracy: 0.9985 - val_loss: 0.0596 - val_accuracy: 0.9843\n",
      "Epoch 8/500\n",
      "84/84 [==============================] - 198s 2s/step - loss: 0.0058 - accuracy: 0.9996 - val_loss: 0.0514 - val_accuracy: 0.9843\n",
      "Epoch 9/500\n",
      "84/84 [==============================] - 198s 2s/step - loss: 0.0053 - accuracy: 0.9993 - val_loss: 0.0566 - val_accuracy: 0.9738\n",
      "Epoch 10/500\n",
      "84/84 [==============================] - 198s 2s/step - loss: 0.0050 - accuracy: 1.0000 - val_loss: 0.0570 - val_accuracy: 0.9817\n",
      "Epoch 11/500\n",
      "84/84 [==============================] - 197s 2s/step - loss: 0.0045 - accuracy: 0.9996 - val_loss: 0.0619 - val_accuracy: 0.9843\n",
      "Epoch 12/500\n",
      "84/84 [==============================] - 198s 2s/step - loss: 0.0047 - accuracy: 0.9996 - val_loss: 0.0737 - val_accuracy: 0.9791\n",
      "Epoch 13/500\n",
      "84/84 [==============================] - 199s 2s/step - loss: 0.0022 - accuracy: 1.0000 - val_loss: 0.0577 - val_accuracy: 0.9817\n",
      "Epoch 14/500\n",
      "84/84 [==============================] - 197s 2s/step - loss: 0.0022 - accuracy: 1.0000 - val_loss: 0.0571 - val_accuracy: 0.9817\n",
      "Epoch 15/500\n",
      "84/84 [==============================] - 196s 2s/step - loss: 0.0020 - accuracy: 1.0000 - val_loss: 0.0644 - val_accuracy: 0.9817\n",
      "Epoch 16/500\n",
      "84/84 [==============================] - 198s 2s/step - loss: 0.0020 - accuracy: 0.9996 - val_loss: 0.0577 - val_accuracy: 0.9817\n",
      "Epoch 17/500\n",
      "84/84 [==============================] - 198s 2s/step - loss: 0.0030 - accuracy: 0.9993 - val_loss: 0.0533 - val_accuracy: 0.9791\n",
      "Epoch 18/500\n",
      "84/84 [==============================] - 198s 2s/step - loss: 0.0018 - accuracy: 1.0000 - val_loss: 0.0529 - val_accuracy: 0.9817\n",
      "Epoch 19/500\n",
      "84/84 [==============================] - 197s 2s/step - loss: 0.0017 - accuracy: 1.0000 - val_loss: 0.0519 - val_accuracy: 0.9869\n",
      "Epoch 20/500\n",
      "84/84 [==============================] - 197s 2s/step - loss: 0.0015 - accuracy: 1.0000 - val_loss: 0.0439 - val_accuracy: 0.9764\n",
      "Epoch 21/500\n",
      "84/84 [==============================] - 197s 2s/step - loss: 0.0012 - accuracy: 1.0000 - val_loss: 0.0624 - val_accuracy: 0.9764\n",
      "Epoch 22/500\n",
      "84/84 [==============================] - 198s 2s/step - loss: 0.0011 - accuracy: 1.0000 - val_loss: 0.0565 - val_accuracy: 0.9764\n",
      "Epoch 23/500\n",
      "84/84 [==============================] - 198s 2s/step - loss: 0.0011 - accuracy: 1.0000 - val_loss: 0.0599 - val_accuracy: 0.9791\n",
      "Epoch 24/500\n",
      "84/84 [==============================] - 198s 2s/step - loss: 8.4997e-04 - accuracy: 1.0000 - val_loss: 0.0715 - val_accuracy: 0.9791\n"
     ]
    }
   ],
   "source": [
    "history =  model.fit(\n",
    "  train_set,\n",
    "  validation_data=validation_set,\n",
    "  epochs=500,\n",
    "  steps_per_epoch=len(train_set),\n",
    "  validation_steps=len(validation_set),\n",
    "  callbacks=[early_stopping]\n",
    ")"
   ]
  },
  {
   "cell_type": "code",
   "execution_count": null,
   "metadata": {},
   "outputs": [
    {
     "name": "stdout",
     "output_type": "stream",
     "text": [
      "25/25 [==============================] - 50s 2s/step - loss: 0.0395 - accuracy: 0.9909\n"
     ]
    },
    {
     "data": {
      "text/plain": [
       "[0.039471585303545, 0.9908972978591919]"
      ]
     },
     "execution_count": 52,
     "metadata": {},
     "output_type": "execute_result"
    }
   ],
   "source": [
    "model.evaluate(test_set)"
   ]
  },
  {
   "cell_type": "code",
   "execution_count": 12,
   "metadata": {},
   "outputs": [
    {
     "data": {
      "image/png": "[encoded data removed]",
      "text/plain": [
       "<Figure size 432x288 with 1 Axes>"
      ]
     },
     "metadata": {
      "needs_background": "light"
     },
     "output_type": "display_data"
    }
   ],
   "source": [
    "plt.plot(history.history['loss'], label='train loss')\n",
    "plt.plot(history.history['val_loss'], label='val loss')\n",
    "plt.legend()\n",
    "plt.show()"
   ]
  },
  {
   "cell_type": "code",
   "execution_count": 13,
   "metadata": {},
   "outputs": [
    {
     "data": {
      "image/png": "[encoded data removed]",
      "text/plain": [
       "<Figure size 432x288 with 1 Axes>"
      ]
     },
     "metadata": {
      "needs_background": "light"
     },
     "output_type": "display_data"
    }
   ],
   "source": [
    "plt.plot(history.history['accuracy'], label='train acc')\n",
    "plt.plot(history.history['val_accuracy'], label='val acc')\n",
    "plt.legend()\n",
    "plt.show()"
   ]
  },
  {
   "cell_type": "code",
   "execution_count": null,
   "metadata": {},
   "outputs": [],
   "source": [
    "model.save(\"Models/mask_detector.model\", save_format=\"h5\")"
   ]
  }
 ],
 "metadata": {
  "interpreter": {
   "hash": "dbc95444676010f6b3b0414912ebca9dcf061e07e1048122b2c9894cc428e770"
  },
  "kernelspec": {
   "display_name": "Python 3.9.0 ('venv1')",
   "language": "python",
   "name": "python3"
  },
  "language_info": {
   "codemirror_mode": {
    "name": "ipython",
    "version": 3
   },
   "file_extension": ".py",
   "mimetype": "text/x-python",
   "name": "python",
   "nbconvert_exporter": "python",
   "pygments_lexer": "ipython3",
   "version": "3.9.0"
  },
  "orig_nbformat": 4
 },
 "nbformat": 4,
 "nbformat_minor": 2
}
